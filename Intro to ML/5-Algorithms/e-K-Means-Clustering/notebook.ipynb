{
 "cells": [
  {
   "cell_type": "markdown",
   "metadata": {},
   "source": [
    "![@mikegchambers](../../images/header.png)"
   ]
  },
  {
   "cell_type": "markdown",
   "metadata": {},
   "source": [
    "# K-means Clustering\n",
    "\n",
    "In this notebook, we explore K-means clustering using scikit-learn.\n",
    "\n",
    "![Clusters](clusters.png)"
   ]
  },
  {
   "cell_type": "code",
   "execution_count": null,
   "metadata": {},
   "outputs": [],
   "source": [
    "from sklearn.cluster import KMeans\n",
    "from sklearn.datasets import make_blobs\n",
    "\n",
    "import numpy as np\n",
    "import matplotlib.pyplot as plt\n",
    "\n",
    "from matplotlib import style\n",
    "style.use('ggplot') or plt.style.use('ggplot')"
   ]
  },
  {
   "cell_type": "markdown",
   "metadata": {},
   "source": [
    "# Data"
   ]
  },
  {
   "cell_type": "code",
   "execution_count": null,
   "metadata": {},
   "outputs": [],
   "source": [
    "K = 4\n",
    "X, y = make_blobs(n_samples=100, centers=K, cluster_std=1.5)"
   ]
  },
  {
   "cell_type": "code",
   "execution_count": null,
   "metadata": {},
   "outputs": [],
   "source": [
    "plt.scatter(X[:,0], X[:,1], c=y)"
   ]
  },
  {
   "cell_type": "markdown",
   "metadata": {},
   "source": [
    "# Model "
   ]
  },
  {
   "cell_type": "markdown",
   "metadata": {},
   "source": [
    "https://scikit-learn.org/stable/modules/generated/sklearn.cluster.KMeans.html\n",
    "\n",
    "**n_clustersint**: The number of clusters to form as well as the number of centroids to generate.\n",
    "\n",
    "**init**: Method for initialization\n",
    "\n",
    "**n_init**: Number of times to run with different centroid seeds. \n",
    "\n",
    "**max_iter**: Maximum number of iterations of the k-means algorithm for a single run."
   ]
  },
  {
   "cell_type": "code",
   "execution_count": null,
   "metadata": {},
   "outputs": [],
   "source": [
    "model = KMeans(n_clusters=K, init='random', n_init=5, max_iter=50)"
   ]
  },
  {
   "cell_type": "markdown",
   "metadata": {},
   "source": [
    "Notice that when we fit the data we don't pass in 'y'.  This is unsupervised."
   ]
  },
  {
   "cell_type": "code",
   "execution_count": null,
   "metadata": {},
   "outputs": [],
   "source": [
    "model.fit(X)"
   ]
  },
  {
   "cell_type": "markdown",
   "metadata": {},
   "source": [
    "Let's get the centers of the clusters that K-means found."
   ]
  },
  {
   "cell_type": "code",
   "execution_count": null,
   "metadata": {},
   "outputs": [],
   "source": [
    "clusters = model.cluster_centers_"
   ]
  },
  {
   "cell_type": "markdown",
   "metadata": {},
   "source": [
    "Let's get the labels that K-means has decided on."
   ]
  },
  {
   "cell_type": "code",
   "execution_count": null,
   "metadata": {},
   "outputs": [],
   "source": [
    "labels = model.labels_"
   ]
  },
  {
   "cell_type": "markdown",
   "metadata": {},
   "source": [
    "This time we will make two plots, side by side.  We will compare the original, generated data, with the clusters 'discovered' by the algorithum. "
   ]
  },
  {
   "cell_type": "code",
   "execution_count": null,
   "metadata": {},
   "outputs": [],
   "source": [
    "plt.subplots(nrows=1, ncols=2, figsize=(10, 4))\n",
    "\n",
    "plt.tight_layout()\n",
    "\n",
    "plt.subplot(1, 2, 1)\n",
    "plt.title('Original Data')\n",
    "plt.scatter(X[:,0], X[:,1], c=y)\n",
    "\n",
    "plt.subplot(1, 2, 2)\n",
    "plt.title('K-means Data')\n",
    "plt.scatter(X[:,0], X[:,1], c=labels)\n",
    "plt.scatter(clusters[:,0], clusters[:,1], marker=\"x\", s=400, linewidth=1, c=\"black\", zorder=1000)\n",
    "\n",
    "plt.show()"
   ]
  },
  {
   "cell_type": "markdown",
   "metadata": {},
   "source": [
    "# Choosing a value for K"
   ]
  },
  {
   "cell_type": "markdown",
   "metadata": {},
   "source": [
    "Let's explore how to find a good value for K.\n",
    "\n",
    "In this loop, we try a range of K values from 1 to 10.  Each time we store the inverse of the \"sum of squared distances of samples to their closest cluster center\" as a way to track the change in variation of the clusters."
   ]
  },
  {
   "cell_type": "code",
   "execution_count": null,
   "metadata": {},
   "outputs": [],
   "source": [
    "mi = []\n",
    "\n",
    "for i in range(1,10):\n",
    "    m = KMeans(n_clusters=i, init='random', n_init=5, max_iter=5)\n",
    "    m.fit(X)\n",
    "    mi.append([i,1-m.inertia_])\n",
    "    \n",
    "mi = np.array(mi)"
   ]
  },
  {
   "cell_type": "markdown",
   "metadata": {},
   "source": [
    "Now let's plot what we found, and look for the elbow.  This point will represent a good choice for the value of K."
   ]
  },
  {
   "cell_type": "code",
   "execution_count": null,
   "metadata": {},
   "outputs": [],
   "source": [
    "axes = plt.axes()\n",
    "\n",
    "axes.plot(mi[:,0],mi[:,1])\n",
    "\n",
    "plt.title('Elbow Plot')\n",
    "axes.set_ylabel('Reduction in Variation')\n",
    "axes.set_yticks([])\n",
    "axes.set_xlabel('Number of clusters (K)')\n",
    "\n",
    "plt.show()"
   ]
  },
  {
   "cell_type": "markdown",
   "metadata": {},
   "source": [
    "# Viewing the cluster boundaries\n",
    "\n",
    "Let's use the 'brute force' 'plot all the points' method to visualize the boundires of the clusters in our original model."
   ]
  },
  {
   "cell_type": "code",
   "execution_count": null,
   "metadata": {},
   "outputs": [],
   "source": [
    "axes = plt.axes()\n",
    "\n",
    "plt.scatter(X[:,0], X[:,1], c='white')\n",
    "plt.scatter(clusters[:,0], clusters[:,1], marker=\"x\", s=400, linewidth=1, c=\"black\", zorder=1000)\n",
    "\n",
    "# Create a grid of points to evaluate:\n",
    "xlim = axes.get_xlim()\n",
    "ylim = axes.get_ylim()\n",
    "xx = np.linspace(xlim[0], xlim[1], 200)\n",
    "yy = np.linspace(ylim[0], ylim[1], 200)\n",
    "YY, XX = np.meshgrid(yy, xx)\n",
    "xy = np.vstack([XX.ravel(), YY.ravel()]).T\n",
    "\n",
    "Z = model.predict(xy)\n",
    "\n",
    "axes.scatter(xy[:,0],xy[:,1],marker=\"s\",c=Z,s=5, zorder=-10)\n",
    "\n",
    "plt.show()"
   ]
  },
  {
   "cell_type": "code",
   "execution_count": null,
   "metadata": {},
   "outputs": [],
   "source": []
  }
 ],
 "metadata": {
  "kernelspec": {
   "display_name": "conda_python3",
   "language": "python",
   "name": "conda_python3"
  },
  "language_info": {
   "codemirror_mode": {
    "name": "ipython",
    "version": 3
   },
   "file_extension": ".py",
   "mimetype": "text/x-python",
   "name": "python",
   "nbconvert_exporter": "python",
   "pygments_lexer": "ipython3",
   "version": "3.6.10"
  }
 },
 "nbformat": 4,
 "nbformat_minor": 4
}
